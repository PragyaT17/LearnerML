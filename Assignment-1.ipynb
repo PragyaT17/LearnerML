{
 "cells": [
  {
   "cell_type": "markdown",
   "id": "03a7048a",
   "metadata": {},
   "source": [
    "# Assignment - 1\n",
    "Pragya Tiwary\n",
    "e-mail: pradititiw17@gmail.com\n",
    "Contact : 9078641276\n",
    "College: NIT Jalandhar\n",
    "                                           "
   ]
  },
  {
   "cell_type": "markdown",
   "id": "7942dae2",
   "metadata": {},
   "source": [
    "# Program-1: Print the net bonus based on salary and years of service.\n"
   ]
  },
  {
   "cell_type": "code",
   "execution_count": 9,
   "id": "d254ab48",
   "metadata": {},
   "outputs": [
    {
     "name": "stdout",
     "output_type": "stream",
     "text": [
      "Enter the employee salary: 30000\n",
      "Enter the years of service: 6\n",
      "The total bonus is 1500.0\n"
     ]
    }
   ],
   "source": [
    "salary_of_employee = int(input(\"Enter the employee salary: \"))\n",
    "years_of_service = int(input(\"Enter the years of service: \" ))\n",
    "if(years_of_service > 5):\n",
    "    bonus = (5*salary_of_employee)/100\n",
    "else:\n",
    "    bonus = 0\n",
    "print(f'The total bonus is {bonus}')"
   ]
  },
  {
   "cell_type": "markdown",
   "id": "3410f59e",
   "metadata": {},
   "source": [
    "# Program-2 : Enter student marks and print grades. "
   ]
  },
  {
   "cell_type": "code",
   "execution_count": 10,
   "id": "5b237d6f",
   "metadata": {},
   "outputs": [
    {
     "name": "stdout",
     "output_type": "stream",
     "text": [
      "Enter the marks of student: 78\n",
      "Grade is: B\n"
     ]
    }
   ],
   "source": [
    "marks = int(input(\"Enter the marks of student: \"))\n",
    "grade = \"\"\n",
    "if(marks < 25):\n",
    "    grade = \"F\"\n",
    "elif((marks>=25) and (marks<45)):\n",
    "    grade = \"E\"\n",
    "elif((marks >= 45) and (marks < 50)):\n",
    "    grade = \"D\"\n",
    "elif((marks >= 50) and (marks < 60)):\n",
    "    grade = \"C\"\n",
    "elif((marks >= 60) and (marks < 80)):\n",
    "    grade = \"B\"\n",
    "elif(marks>80):\n",
    "    grade = \"A\"\n",
    "print(f\"Grade is: {grade}\")"
   ]
  },
  {
   "cell_type": "markdown",
   "id": "4d067a2e",
   "metadata": {},
   "source": [
    "# Program-3 : WAP to check if attendance of student is>75% to deduce if student is eligible for exam"
   ]
  },
  {
   "cell_type": "code",
   "execution_count": 13,
   "id": "a9cfa8b1",
   "metadata": {},
   "outputs": [
    {
     "name": "stdout",
     "output_type": "stream",
     "text": [
      "Enter the total no. of classes held: 50\n",
      "Enter the no. of classes attended by student: 36\n",
      "The percentage of attendance is 72.0\n",
      "student cannot appear for exam\n"
     ]
    }
   ],
   "source": [
    "classes_held = int(input(\"Enter the total no. of classes held: \"))\n",
    "classes_attended = int(input(\"Enter the no. of classes attended by student: \"))\n",
    "percentage_attendance = (classes_attended/classes_held)*100\n",
    "print(f\"The percentage of attendance is {percentage_attendance}\")\n",
    "if(percentage_attendance > 75):\n",
    "    print(\"student can appear for exam\")\n",
    "else:\n",
    "    print(\"student cannot appear for exam\")"
   ]
  },
  {
   "cell_type": "markdown",
   "id": "abefeb53",
   "metadata": {},
   "source": [
    "# Program-4 : WAP to print user's place of service based on age and sex."
   ]
  },
  {
   "cell_type": "code",
   "execution_count": 4,
   "id": "6689ebb1",
   "metadata": {},
   "outputs": [
    {
     "name": "stdout",
     "output_type": "stream",
     "text": [
      "Enter your age : 57\n",
      "Enter 'F' for female and 'M' for male: F\n",
      "You can work in urban areas\n"
     ]
    }
   ],
   "source": [
    "age = int(input(\"Enter your age : \"))\n",
    "sex = input(\"Enter 'F' for female and 'M' for male: \")\n",
    "place_of_service = \"\"\n",
    "if(sex == \"F\"):\n",
    "    print(\"You can work in urban areas\")\n",
    "else:\n",
    "    if(sex == \"M\") and (age>=20) and (age<=40):\n",
    "        print(\"You can work anywhere\")\n",
    "    elif(sex == \"M\") and (age>40) and (age < 60):\n",
    "        print(\"You can work in urban areas only\")"
   ]
  },
  {
   "cell_type": "markdown",
   "id": "2598b568",
   "metadata": {},
   "source": [
    "# Program-5 : WAP to find the average of 10 user-input numbers."
   ]
  },
  {
   "cell_type": "code",
   "execution_count": 1,
   "id": "6f480ab7",
   "metadata": {},
   "outputs": [
    {
     "name": "stdout",
     "output_type": "stream",
     "text": [
      "Enter a  number: 90\n",
      "Enter a  number: 20\n",
      "Enter a  number: 36\n",
      "Enter a  number: 78\n",
      "Enter a  number: 56\n",
      "Enter a  number: 43\n",
      "Enter a  number: 29\n",
      "Enter a  number: 14\n",
      "Enter a  number: 89\n",
      "Enter a  number: 96\n",
      "The average is 4.5\n"
     ]
    }
   ],
   "source": [
    "sum = 0\n",
    "avg = 0\n",
    "for i in range(0,10,1):\n",
    "    num = int(input(\"Enter a  number: \"))\n",
    "    sum+= i\n",
    "avg = sum/10\n",
    "print(f\"The average is {avg}\")"
   ]
  },
  {
   "cell_type": "markdown",
   "id": "0cd9a97a",
   "metadata": {},
   "source": [
    "# Program 6 : WAP to find the factorial of a number."
   ]
  },
  {
   "cell_type": "code",
   "execution_count": 3,
   "id": "c05389ff",
   "metadata": {},
   "outputs": [
    {
     "name": "stdout",
     "output_type": "stream",
     "text": [
      "Enter a number: 6\n",
      "The factorial of 6 is: 720\n"
     ]
    }
   ],
   "source": [
    "def fact(number):\n",
    "    result = 1\n",
    "    for num in range(1,number+1):\n",
    "        result*= num\n",
    "    return result\n",
    "\n",
    "number = int(input(\"Enter a number: \"))\n",
    "factorial = fact(number)\n",
    "print(f\"The factorial of {number} is: {factorial}\")"
   ]
  },
  {
   "cell_type": "markdown",
   "id": "ba27e627",
   "metadata": {},
   "source": [
    "# Program 7 : Find the average and product of inputs till the user presses q."
   ]
  },
  {
   "cell_type": "code",
   "execution_count": 8,
   "id": "968aa570",
   "metadata": {},
   "outputs": [
    {
     "name": "stdout",
     "output_type": "stream",
     "text": [
      "Enter 'c' to continue and 'q' to quit: c\n",
      "Enter a number3\n",
      "Enter 'c' to continue and 'q' to quit:c\n",
      "Enter a number5\n",
      "Enter 'c' to continue and 'q' to quit:q\n",
      "The average is 4.0 and product is 15 \n"
     ]
    }
   ],
   "source": [
    "cont = input(\"Enter 'c' to continue and 'q' to quit: \")\n",
    "count = 0\n",
    "product= 1\n",
    "sum1 = 0\n",
    "while(cont!= 'q'):\n",
    "    count+= 1\n",
    "    number = int(input(\"Enter a number\"))\n",
    "    sum1+= number\n",
    "    product =product*number\n",
    "    cont = input(\"Enter 'c' to continue and 'q' to quit:\")\n",
    "    \n",
    "average = sum1/count\n",
    "result = product\n",
    "print(f\"The average is {average} and product is {result} \")\n",
    "    \n",
    "    "
   ]
  },
  {
   "cell_type": "markdown",
   "id": "af417712",
   "metadata": {},
   "source": [
    "# Program 8 : Find if the given number is armstrong number."
   ]
  },
  {
   "cell_type": "code",
   "execution_count": 4,
   "id": "221d382d",
   "metadata": {},
   "outputs": [
    {
     "name": "stdout",
     "output_type": "stream",
     "text": [
      "153\n"
     ]
    }
   ],
   "source": [
    "\n",
    "\n",
    "for i in range(100,154):\n",
    "    num = i\n",
    "    sum = 0\n",
    "    #print(num)\n",
    "    while(num!=0):\n",
    "        d= num%10\n",
    "        sum = sum+(d**3)\n",
    "        num= int(num/10)\n",
    "    if(sum == i):\n",
    "        print(i)\n",
    "    \n"
   ]
  },
  {
   "cell_type": "markdown",
   "id": "6dae086a",
   "metadata": {},
   "source": [
    "# Program : Find the length of the string 'refrigerator' without using len()."
   ]
  },
  {
   "cell_type": "code",
   "execution_count": 6,
   "id": "68113ba3",
   "metadata": {},
   "outputs": [
    {
     "name": "stdout",
     "output_type": "stream",
     "text": [
      "12\n"
     ]
    }
   ],
   "source": [
    "str = \"refrigerator\"\n",
    "count = 0\n",
    "for character in str:\n",
    "    count+= 1\n",
    "print(count)"
   ]
  },
  {
   "cell_type": "markdown",
   "id": "085a4a10",
   "metadata": {},
   "source": [
    "# Program 10 : Print the user's name as initials."
   ]
  },
  {
   "cell_type": "code",
   "execution_count": 32,
   "id": "e865682a",
   "metadata": {},
   "outputs": [
    {
     "name": "stdout",
     "output_type": "stream",
     "text": [
      "Enter your name: Robert Brett Roser\n",
      " R.B.Roser\n"
     ]
    }
   ],
   "source": [
    "str = input(\"Enter your name: \")\n",
    "str1 = str.split(\" \")\n",
    "s = \" \"\n",
    "l = len(str1)\n",
    "for  i  in range(l-1):\n",
    "    str = str1[i]\n",
    "    s+= str[0] + \".\"\n",
    "s+= str1[-1]\n",
    "print(s)\n",
    "    "
   ]
  },
  {
   "cell_type": "code",
   "execution_count": null,
   "id": "e17ee6af",
   "metadata": {},
   "outputs": [],
   "source": []
  }
 ],
 "metadata": {
  "kernelspec": {
   "display_name": "Python 3",
   "language": "python",
   "name": "python3"
  },
  "language_info": {
   "codemirror_mode": {
    "name": "ipython",
    "version": 3
   },
   "file_extension": ".py",
   "mimetype": "text/x-python",
   "name": "python",
   "nbconvert_exporter": "python",
   "pygments_lexer": "ipython3",
   "version": "3.8.8"
  }
 },
 "nbformat": 4,
 "nbformat_minor": 5
}
